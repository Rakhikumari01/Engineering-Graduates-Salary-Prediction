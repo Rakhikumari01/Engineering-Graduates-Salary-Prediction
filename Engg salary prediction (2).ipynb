{
 "cells": [
  {
   "cell_type": "code",
   "execution_count": 89,
   "id": "c6bfe734",
   "metadata": {},
   "outputs": [],
   "source": [
    "import pandas as pd\n",
    "import matplotlib.pyplot as plt\n",
    "import numpy as np\n",
    "from sklearn.linear_model import LinearRegression"
   ]
  },
  {
   "cell_type": "code",
   "execution_count": 90,
   "id": "599dcb14",
   "metadata": {},
   "outputs": [],
   "source": [
    "df = pd.read_csv(\"Engineering_graduate_salary.csv\")"
   ]
  },
  {
   "cell_type": "code",
   "execution_count": 91,
   "id": "8d6117e6",
   "metadata": {},
   "outputs": [
    {
     "data": {
      "text/html": [
       "<div>\n",
       "<style scoped>\n",
       "    .dataframe tbody tr th:only-of-type {\n",
       "        vertical-align: middle;\n",
       "    }\n",
       "\n",
       "    .dataframe tbody tr th {\n",
       "        vertical-align: top;\n",
       "    }\n",
       "\n",
       "    .dataframe thead th {\n",
       "        text-align: right;\n",
       "    }\n",
       "</style>\n",
       "<table border=\"1\" class=\"dataframe\">\n",
       "  <thead>\n",
       "    <tr style=\"text-align: right;\">\n",
       "      <th></th>\n",
       "      <th>ID</th>\n",
       "      <th>Gender</th>\n",
       "      <th>DOB</th>\n",
       "      <th>10percentage</th>\n",
       "      <th>10board</th>\n",
       "      <th>12graduation</th>\n",
       "      <th>12percentage</th>\n",
       "      <th>12board</th>\n",
       "      <th>CollegeID</th>\n",
       "      <th>CollegeTier</th>\n",
       "      <th>...</th>\n",
       "      <th>MechanicalEngg</th>\n",
       "      <th>ElectricalEngg</th>\n",
       "      <th>TelecomEngg</th>\n",
       "      <th>CivilEngg</th>\n",
       "      <th>conscientiousness</th>\n",
       "      <th>agreeableness</th>\n",
       "      <th>extraversion</th>\n",
       "      <th>nueroticism</th>\n",
       "      <th>openess_to_experience</th>\n",
       "      <th>Salary</th>\n",
       "    </tr>\n",
       "  </thead>\n",
       "  <tbody>\n",
       "    <tr>\n",
       "      <th>0</th>\n",
       "      <td>604399</td>\n",
       "      <td>f</td>\n",
       "      <td>1990-10-22</td>\n",
       "      <td>87.80</td>\n",
       "      <td>cbse</td>\n",
       "      <td>2009</td>\n",
       "      <td>84.00</td>\n",
       "      <td>cbse</td>\n",
       "      <td>6920</td>\n",
       "      <td>1</td>\n",
       "      <td>...</td>\n",
       "      <td>-1</td>\n",
       "      <td>-1</td>\n",
       "      <td>-1</td>\n",
       "      <td>-1</td>\n",
       "      <td>-0.1590</td>\n",
       "      <td>0.3789</td>\n",
       "      <td>1.2396</td>\n",
       "      <td>0.14590</td>\n",
       "      <td>0.2889</td>\n",
       "      <td>445000</td>\n",
       "    </tr>\n",
       "    <tr>\n",
       "      <th>1</th>\n",
       "      <td>988334</td>\n",
       "      <td>m</td>\n",
       "      <td>1990-05-15</td>\n",
       "      <td>57.00</td>\n",
       "      <td>cbse</td>\n",
       "      <td>2010</td>\n",
       "      <td>64.50</td>\n",
       "      <td>cbse</td>\n",
       "      <td>6624</td>\n",
       "      <td>2</td>\n",
       "      <td>...</td>\n",
       "      <td>-1</td>\n",
       "      <td>-1</td>\n",
       "      <td>-1</td>\n",
       "      <td>-1</td>\n",
       "      <td>1.1336</td>\n",
       "      <td>0.0459</td>\n",
       "      <td>1.2396</td>\n",
       "      <td>0.52620</td>\n",
       "      <td>-0.2859</td>\n",
       "      <td>110000</td>\n",
       "    </tr>\n",
       "    <tr>\n",
       "      <th>2</th>\n",
       "      <td>301647</td>\n",
       "      <td>m</td>\n",
       "      <td>1989-08-21</td>\n",
       "      <td>77.33</td>\n",
       "      <td>maharashtra state board,pune</td>\n",
       "      <td>2007</td>\n",
       "      <td>85.17</td>\n",
       "      <td>amravati divisional board</td>\n",
       "      <td>9084</td>\n",
       "      <td>2</td>\n",
       "      <td>...</td>\n",
       "      <td>-1</td>\n",
       "      <td>-1</td>\n",
       "      <td>260</td>\n",
       "      <td>-1</td>\n",
       "      <td>0.5100</td>\n",
       "      <td>-0.1232</td>\n",
       "      <td>1.5428</td>\n",
       "      <td>-0.29020</td>\n",
       "      <td>-0.2875</td>\n",
       "      <td>255000</td>\n",
       "    </tr>\n",
       "    <tr>\n",
       "      <th>3</th>\n",
       "      <td>582313</td>\n",
       "      <td>m</td>\n",
       "      <td>1991-05-04</td>\n",
       "      <td>84.30</td>\n",
       "      <td>cbse</td>\n",
       "      <td>2009</td>\n",
       "      <td>86.00</td>\n",
       "      <td>cbse</td>\n",
       "      <td>8195</td>\n",
       "      <td>1</td>\n",
       "      <td>...</td>\n",
       "      <td>-1</td>\n",
       "      <td>-1</td>\n",
       "      <td>-1</td>\n",
       "      <td>-1</td>\n",
       "      <td>-0.4463</td>\n",
       "      <td>0.2124</td>\n",
       "      <td>0.3174</td>\n",
       "      <td>0.27270</td>\n",
       "      <td>0.4805</td>\n",
       "      <td>420000</td>\n",
       "    </tr>\n",
       "    <tr>\n",
       "      <th>4</th>\n",
       "      <td>339001</td>\n",
       "      <td>f</td>\n",
       "      <td>1990-10-30</td>\n",
       "      <td>82.00</td>\n",
       "      <td>cbse</td>\n",
       "      <td>2008</td>\n",
       "      <td>75.00</td>\n",
       "      <td>cbse</td>\n",
       "      <td>4889</td>\n",
       "      <td>2</td>\n",
       "      <td>...</td>\n",
       "      <td>-1</td>\n",
       "      <td>-1</td>\n",
       "      <td>-1</td>\n",
       "      <td>-1</td>\n",
       "      <td>-1.4992</td>\n",
       "      <td>-0.7473</td>\n",
       "      <td>-1.0697</td>\n",
       "      <td>0.06223</td>\n",
       "      <td>0.1864</td>\n",
       "      <td>200000</td>\n",
       "    </tr>\n",
       "  </tbody>\n",
       "</table>\n",
       "<p>5 rows × 34 columns</p>\n",
       "</div>"
      ],
      "text/plain": [
       "       ID Gender         DOB  10percentage                       10board  \\\n",
       "0  604399      f  1990-10-22         87.80                          cbse   \n",
       "1  988334      m  1990-05-15         57.00                          cbse   \n",
       "2  301647      m  1989-08-21         77.33  maharashtra state board,pune   \n",
       "3  582313      m  1991-05-04         84.30                          cbse   \n",
       "4  339001      f  1990-10-30         82.00                          cbse   \n",
       "\n",
       "   12graduation  12percentage                    12board  CollegeID  \\\n",
       "0          2009         84.00                       cbse       6920   \n",
       "1          2010         64.50                       cbse       6624   \n",
       "2          2007         85.17  amravati divisional board       9084   \n",
       "3          2009         86.00                       cbse       8195   \n",
       "4          2008         75.00                       cbse       4889   \n",
       "\n",
       "   CollegeTier  ... MechanicalEngg ElectricalEngg  TelecomEngg  CivilEngg  \\\n",
       "0            1  ...             -1             -1           -1         -1   \n",
       "1            2  ...             -1             -1           -1         -1   \n",
       "2            2  ...             -1             -1          260         -1   \n",
       "3            1  ...             -1             -1           -1         -1   \n",
       "4            2  ...             -1             -1           -1         -1   \n",
       "\n",
       "   conscientiousness agreeableness  extraversion  nueroticism  \\\n",
       "0            -0.1590        0.3789        1.2396      0.14590   \n",
       "1             1.1336        0.0459        1.2396      0.52620   \n",
       "2             0.5100       -0.1232        1.5428     -0.29020   \n",
       "3            -0.4463        0.2124        0.3174      0.27270   \n",
       "4            -1.4992       -0.7473       -1.0697      0.06223   \n",
       "\n",
       "   openess_to_experience  Salary  \n",
       "0                 0.2889  445000  \n",
       "1                -0.2859  110000  \n",
       "2                -0.2875  255000  \n",
       "3                 0.4805  420000  \n",
       "4                 0.1864  200000  \n",
       "\n",
       "[5 rows x 34 columns]"
      ]
     },
     "execution_count": 91,
     "metadata": {},
     "output_type": "execute_result"
    }
   ],
   "source": [
    "df.head()"
   ]
  },
  {
   "cell_type": "code",
   "execution_count": 92,
   "id": "08513ef5",
   "metadata": {},
   "outputs": [
    {
     "data": {
      "text/plain": [
       "ID                       0\n",
       "Gender                   0\n",
       "DOB                      0\n",
       "10percentage             0\n",
       "10board                  0\n",
       "12graduation             0\n",
       "12percentage             0\n",
       "12board                  0\n",
       "CollegeID                0\n",
       "CollegeTier              0\n",
       "Degree                   0\n",
       "Specialization           0\n",
       "collegeGPA               0\n",
       "CollegeCityID            0\n",
       "CollegeCityTier          0\n",
       "CollegeState             0\n",
       "GraduationYear           0\n",
       "English                  0\n",
       "Logical                  0\n",
       "Quant                    0\n",
       "Domain                   0\n",
       "ComputerProgramming      0\n",
       "ElectronicsAndSemicon    0\n",
       "ComputerScience          0\n",
       "MechanicalEngg           0\n",
       "ElectricalEngg           0\n",
       "TelecomEngg              0\n",
       "CivilEngg                0\n",
       "conscientiousness        0\n",
       "agreeableness            0\n",
       "extraversion             0\n",
       "nueroticism              0\n",
       "openess_to_experience    0\n",
       "Salary                   0\n",
       "dtype: int64"
      ]
     },
     "execution_count": 92,
     "metadata": {},
     "output_type": "execute_result"
    }
   ],
   "source": [
    "df.isnull().sum()"
   ]
  },
  {
   "cell_type": "code",
   "execution_count": 93,
   "id": "8e8bac81",
   "metadata": {},
   "outputs": [
    {
     "data": {
      "text/plain": [
       "(2998, 34)"
      ]
     },
     "execution_count": 93,
     "metadata": {},
     "output_type": "execute_result"
    }
   ],
   "source": [
    "df.shape"
   ]
  },
  {
   "cell_type": "code",
   "execution_count": 94,
   "id": "a5f75146",
   "metadata": {},
   "outputs": [
    {
     "data": {
      "text/plain": [
       "0       665\n",
       "1       435\n",
       "2       475\n",
       "3       620\n",
       "4       495\n",
       "       ... \n",
       "2993    485\n",
       "2994    585\n",
       "2995    425\n",
       "2996    645\n",
       "2997    390\n",
       "Name: Logical, Length: 2998, dtype: int64"
      ]
     },
     "execution_count": 94,
     "metadata": {},
     "output_type": "execute_result"
    }
   ],
   "source": [
    "df.Logical"
   ]
  },
  {
   "cell_type": "markdown",
   "id": "5b12c5e4",
   "metadata": {},
   "source": [
    "# Data Cleaning and Replacing -1 to its mean values for better prediction"
   ]
  },
  {
   "cell_type": "code",
   "execution_count": 95,
   "id": "3c2a85bc",
   "metadata": {},
   "outputs": [],
   "source": [
    "columns = ['ComputerProgramming','ElectronicsAndSemicon','ComputerScience','MechanicalEngg','ElectricalEngg','TelecomEngg','CivilEngg']\n",
    "for col in columns:\n",
    "    df[col] = df[col].replace({ -1 : np.nan})\n",
    "    df[col] = df[col].fillna(df[col].mean())"
   ]
  },
  {
   "cell_type": "code",
   "execution_count": 96,
   "id": "f2294395",
   "metadata": {},
   "outputs": [
    {
     "data": {
      "text/html": [
       "<div>\n",
       "<style scoped>\n",
       "    .dataframe tbody tr th:only-of-type {\n",
       "        vertical-align: middle;\n",
       "    }\n",
       "\n",
       "    .dataframe tbody tr th {\n",
       "        vertical-align: top;\n",
       "    }\n",
       "\n",
       "    .dataframe thead th {\n",
       "        text-align: right;\n",
       "    }\n",
       "</style>\n",
       "<table border=\"1\" class=\"dataframe\">\n",
       "  <thead>\n",
       "    <tr style=\"text-align: right;\">\n",
       "      <th></th>\n",
       "      <th>ID</th>\n",
       "      <th>Gender</th>\n",
       "      <th>DOB</th>\n",
       "      <th>10percentage</th>\n",
       "      <th>10board</th>\n",
       "      <th>12graduation</th>\n",
       "      <th>12percentage</th>\n",
       "      <th>12board</th>\n",
       "      <th>CollegeID</th>\n",
       "      <th>CollegeTier</th>\n",
       "      <th>...</th>\n",
       "      <th>MechanicalEngg</th>\n",
       "      <th>ElectricalEngg</th>\n",
       "      <th>TelecomEngg</th>\n",
       "      <th>CivilEngg</th>\n",
       "      <th>conscientiousness</th>\n",
       "      <th>agreeableness</th>\n",
       "      <th>extraversion</th>\n",
       "      <th>nueroticism</th>\n",
       "      <th>openess_to_experience</th>\n",
       "      <th>Salary</th>\n",
       "    </tr>\n",
       "  </thead>\n",
       "  <tbody>\n",
       "    <tr>\n",
       "      <th>0</th>\n",
       "      <td>604399</td>\n",
       "      <td>f</td>\n",
       "      <td>1990-10-22</td>\n",
       "      <td>87.80</td>\n",
       "      <td>cbse</td>\n",
       "      <td>2009</td>\n",
       "      <td>84.00</td>\n",
       "      <td>cbse</td>\n",
       "      <td>6920</td>\n",
       "      <td>1</td>\n",
       "      <td>...</td>\n",
       "      <td>402.026738</td>\n",
       "      <td>423.336066</td>\n",
       "      <td>349.879562</td>\n",
       "      <td>338.807692</td>\n",
       "      <td>-0.1590</td>\n",
       "      <td>0.3789</td>\n",
       "      <td>1.2396</td>\n",
       "      <td>0.14590</td>\n",
       "      <td>0.2889</td>\n",
       "      <td>445000</td>\n",
       "    </tr>\n",
       "    <tr>\n",
       "      <th>1</th>\n",
       "      <td>988334</td>\n",
       "      <td>m</td>\n",
       "      <td>1990-05-15</td>\n",
       "      <td>57.00</td>\n",
       "      <td>cbse</td>\n",
       "      <td>2010</td>\n",
       "      <td>64.50</td>\n",
       "      <td>cbse</td>\n",
       "      <td>6624</td>\n",
       "      <td>2</td>\n",
       "      <td>...</td>\n",
       "      <td>402.026738</td>\n",
       "      <td>423.336066</td>\n",
       "      <td>349.879562</td>\n",
       "      <td>338.807692</td>\n",
       "      <td>1.1336</td>\n",
       "      <td>0.0459</td>\n",
       "      <td>1.2396</td>\n",
       "      <td>0.52620</td>\n",
       "      <td>-0.2859</td>\n",
       "      <td>110000</td>\n",
       "    </tr>\n",
       "    <tr>\n",
       "      <th>2</th>\n",
       "      <td>301647</td>\n",
       "      <td>m</td>\n",
       "      <td>1989-08-21</td>\n",
       "      <td>77.33</td>\n",
       "      <td>maharashtra state board,pune</td>\n",
       "      <td>2007</td>\n",
       "      <td>85.17</td>\n",
       "      <td>amravati divisional board</td>\n",
       "      <td>9084</td>\n",
       "      <td>2</td>\n",
       "      <td>...</td>\n",
       "      <td>402.026738</td>\n",
       "      <td>423.336066</td>\n",
       "      <td>260.000000</td>\n",
       "      <td>338.807692</td>\n",
       "      <td>0.5100</td>\n",
       "      <td>-0.1232</td>\n",
       "      <td>1.5428</td>\n",
       "      <td>-0.29020</td>\n",
       "      <td>-0.2875</td>\n",
       "      <td>255000</td>\n",
       "    </tr>\n",
       "    <tr>\n",
       "      <th>3</th>\n",
       "      <td>582313</td>\n",
       "      <td>m</td>\n",
       "      <td>1991-05-04</td>\n",
       "      <td>84.30</td>\n",
       "      <td>cbse</td>\n",
       "      <td>2009</td>\n",
       "      <td>86.00</td>\n",
       "      <td>cbse</td>\n",
       "      <td>8195</td>\n",
       "      <td>1</td>\n",
       "      <td>...</td>\n",
       "      <td>402.026738</td>\n",
       "      <td>423.336066</td>\n",
       "      <td>349.879562</td>\n",
       "      <td>338.807692</td>\n",
       "      <td>-0.4463</td>\n",
       "      <td>0.2124</td>\n",
       "      <td>0.3174</td>\n",
       "      <td>0.27270</td>\n",
       "      <td>0.4805</td>\n",
       "      <td>420000</td>\n",
       "    </tr>\n",
       "    <tr>\n",
       "      <th>4</th>\n",
       "      <td>339001</td>\n",
       "      <td>f</td>\n",
       "      <td>1990-10-30</td>\n",
       "      <td>82.00</td>\n",
       "      <td>cbse</td>\n",
       "      <td>2008</td>\n",
       "      <td>75.00</td>\n",
       "      <td>cbse</td>\n",
       "      <td>4889</td>\n",
       "      <td>2</td>\n",
       "      <td>...</td>\n",
       "      <td>402.026738</td>\n",
       "      <td>423.336066</td>\n",
       "      <td>349.879562</td>\n",
       "      <td>338.807692</td>\n",
       "      <td>-1.4992</td>\n",
       "      <td>-0.7473</td>\n",
       "      <td>-1.0697</td>\n",
       "      <td>0.06223</td>\n",
       "      <td>0.1864</td>\n",
       "      <td>200000</td>\n",
       "    </tr>\n",
       "    <tr>\n",
       "      <th>...</th>\n",
       "      <td>...</td>\n",
       "      <td>...</td>\n",
       "      <td>...</td>\n",
       "      <td>...</td>\n",
       "      <td>...</td>\n",
       "      <td>...</td>\n",
       "      <td>...</td>\n",
       "      <td>...</td>\n",
       "      <td>...</td>\n",
       "      <td>...</td>\n",
       "      <td>...</td>\n",
       "      <td>...</td>\n",
       "      <td>...</td>\n",
       "      <td>...</td>\n",
       "      <td>...</td>\n",
       "      <td>...</td>\n",
       "      <td>...</td>\n",
       "      <td>...</td>\n",
       "      <td>...</td>\n",
       "      <td>...</td>\n",
       "      <td>...</td>\n",
       "    </tr>\n",
       "    <tr>\n",
       "      <th>2993</th>\n",
       "      <td>103174</td>\n",
       "      <td>f</td>\n",
       "      <td>1989-04-17</td>\n",
       "      <td>75.00</td>\n",
       "      <td>0</td>\n",
       "      <td>2005</td>\n",
       "      <td>73.00</td>\n",
       "      <td>0</td>\n",
       "      <td>1263</td>\n",
       "      <td>2</td>\n",
       "      <td>...</td>\n",
       "      <td>402.026738</td>\n",
       "      <td>423.336066</td>\n",
       "      <td>349.879562</td>\n",
       "      <td>338.807692</td>\n",
       "      <td>-1.1901</td>\n",
       "      <td>0.9688</td>\n",
       "      <td>-1.0697</td>\n",
       "      <td>1.35490</td>\n",
       "      <td>0.0284</td>\n",
       "      <td>120000</td>\n",
       "    </tr>\n",
       "    <tr>\n",
       "      <th>2994</th>\n",
       "      <td>352811</td>\n",
       "      <td>f</td>\n",
       "      <td>1991-07-22</td>\n",
       "      <td>84.00</td>\n",
       "      <td>state board</td>\n",
       "      <td>2008</td>\n",
       "      <td>77.00</td>\n",
       "      <td>state board</td>\n",
       "      <td>9481</td>\n",
       "      <td>2</td>\n",
       "      <td>...</td>\n",
       "      <td>402.026738</td>\n",
       "      <td>423.336066</td>\n",
       "      <td>349.879562</td>\n",
       "      <td>338.807692</td>\n",
       "      <td>-0.1082</td>\n",
       "      <td>0.0328</td>\n",
       "      <td>-0.4891</td>\n",
       "      <td>-0.29020</td>\n",
       "      <td>0.5024</td>\n",
       "      <td>120000</td>\n",
       "    </tr>\n",
       "    <tr>\n",
       "      <th>2995</th>\n",
       "      <td>287070</td>\n",
       "      <td>m</td>\n",
       "      <td>1988-11-24</td>\n",
       "      <td>91.40</td>\n",
       "      <td>bsemp</td>\n",
       "      <td>2006</td>\n",
       "      <td>65.56</td>\n",
       "      <td>bsemp</td>\n",
       "      <td>547</td>\n",
       "      <td>2</td>\n",
       "      <td>...</td>\n",
       "      <td>402.026738</td>\n",
       "      <td>423.336066</td>\n",
       "      <td>349.879562</td>\n",
       "      <td>338.807692</td>\n",
       "      <td>-0.8810</td>\n",
       "      <td>0.1888</td>\n",
       "      <td>-0.3440</td>\n",
       "      <td>0.06230</td>\n",
       "      <td>0.6603</td>\n",
       "      <td>385000</td>\n",
       "    </tr>\n",
       "    <tr>\n",
       "      <th>2996</th>\n",
       "      <td>317336</td>\n",
       "      <td>m</td>\n",
       "      <td>1988-08-25</td>\n",
       "      <td>88.64</td>\n",
       "      <td>karnataka education board</td>\n",
       "      <td>2006</td>\n",
       "      <td>65.16</td>\n",
       "      <td>karnataka education board</td>\n",
       "      <td>1629</td>\n",
       "      <td>2</td>\n",
       "      <td>...</td>\n",
       "      <td>402.026738</td>\n",
       "      <td>423.336066</td>\n",
       "      <td>349.879562</td>\n",
       "      <td>338.807692</td>\n",
       "      <td>1.4374</td>\n",
       "      <td>1.2808</td>\n",
       "      <td>-0.4891</td>\n",
       "      <td>-1.46537</td>\n",
       "      <td>0.5419</td>\n",
       "      <td>530000</td>\n",
       "    </tr>\n",
       "    <tr>\n",
       "      <th>2997</th>\n",
       "      <td>993701</td>\n",
       "      <td>m</td>\n",
       "      <td>1992-05-27</td>\n",
       "      <td>77.00</td>\n",
       "      <td>state board</td>\n",
       "      <td>2009</td>\n",
       "      <td>75.50</td>\n",
       "      <td>state board</td>\n",
       "      <td>1111</td>\n",
       "      <td>2</td>\n",
       "      <td>...</td>\n",
       "      <td>402.026738</td>\n",
       "      <td>423.336066</td>\n",
       "      <td>349.879562</td>\n",
       "      <td>338.807692</td>\n",
       "      <td>-0.5899</td>\n",
       "      <td>-1.9521</td>\n",
       "      <td>0.3174</td>\n",
       "      <td>1.16010</td>\n",
       "      <td>-2.3937</td>\n",
       "      <td>200000</td>\n",
       "    </tr>\n",
       "  </tbody>\n",
       "</table>\n",
       "<p>2998 rows × 34 columns</p>\n",
       "</div>"
      ],
      "text/plain": [
       "          ID Gender         DOB  10percentage                       10board  \\\n",
       "0     604399      f  1990-10-22         87.80                          cbse   \n",
       "1     988334      m  1990-05-15         57.00                          cbse   \n",
       "2     301647      m  1989-08-21         77.33  maharashtra state board,pune   \n",
       "3     582313      m  1991-05-04         84.30                          cbse   \n",
       "4     339001      f  1990-10-30         82.00                          cbse   \n",
       "...      ...    ...         ...           ...                           ...   \n",
       "2993  103174      f  1989-04-17         75.00                             0   \n",
       "2994  352811      f  1991-07-22         84.00                   state board   \n",
       "2995  287070      m  1988-11-24         91.40                         bsemp   \n",
       "2996  317336      m  1988-08-25         88.64     karnataka education board   \n",
       "2997  993701      m  1992-05-27         77.00                   state board   \n",
       "\n",
       "      12graduation  12percentage                    12board  CollegeID  \\\n",
       "0             2009         84.00                       cbse       6920   \n",
       "1             2010         64.50                       cbse       6624   \n",
       "2             2007         85.17  amravati divisional board       9084   \n",
       "3             2009         86.00                       cbse       8195   \n",
       "4             2008         75.00                       cbse       4889   \n",
       "...            ...           ...                        ...        ...   \n",
       "2993          2005         73.00                          0       1263   \n",
       "2994          2008         77.00                state board       9481   \n",
       "2995          2006         65.56                      bsemp        547   \n",
       "2996          2006         65.16  karnataka education board       1629   \n",
       "2997          2009         75.50                state board       1111   \n",
       "\n",
       "      CollegeTier  ... MechanicalEngg ElectricalEngg  TelecomEngg   CivilEngg  \\\n",
       "0               1  ...     402.026738     423.336066   349.879562  338.807692   \n",
       "1               2  ...     402.026738     423.336066   349.879562  338.807692   \n",
       "2               2  ...     402.026738     423.336066   260.000000  338.807692   \n",
       "3               1  ...     402.026738     423.336066   349.879562  338.807692   \n",
       "4               2  ...     402.026738     423.336066   349.879562  338.807692   \n",
       "...           ...  ...            ...            ...          ...         ...   \n",
       "2993            2  ...     402.026738     423.336066   349.879562  338.807692   \n",
       "2994            2  ...     402.026738     423.336066   349.879562  338.807692   \n",
       "2995            2  ...     402.026738     423.336066   349.879562  338.807692   \n",
       "2996            2  ...     402.026738     423.336066   349.879562  338.807692   \n",
       "2997            2  ...     402.026738     423.336066   349.879562  338.807692   \n",
       "\n",
       "      conscientiousness agreeableness  extraversion  nueroticism  \\\n",
       "0               -0.1590        0.3789        1.2396      0.14590   \n",
       "1                1.1336        0.0459        1.2396      0.52620   \n",
       "2                0.5100       -0.1232        1.5428     -0.29020   \n",
       "3               -0.4463        0.2124        0.3174      0.27270   \n",
       "4               -1.4992       -0.7473       -1.0697      0.06223   \n",
       "...                 ...           ...           ...          ...   \n",
       "2993            -1.1901        0.9688       -1.0697      1.35490   \n",
       "2994            -0.1082        0.0328       -0.4891     -0.29020   \n",
       "2995            -0.8810        0.1888       -0.3440      0.06230   \n",
       "2996             1.4374        1.2808       -0.4891     -1.46537   \n",
       "2997            -0.5899       -1.9521        0.3174      1.16010   \n",
       "\n",
       "      openess_to_experience  Salary  \n",
       "0                    0.2889  445000  \n",
       "1                   -0.2859  110000  \n",
       "2                   -0.2875  255000  \n",
       "3                    0.4805  420000  \n",
       "4                    0.1864  200000  \n",
       "...                     ...     ...  \n",
       "2993                 0.0284  120000  \n",
       "2994                 0.5024  120000  \n",
       "2995                 0.6603  385000  \n",
       "2996                 0.5419  530000  \n",
       "2997                -2.3937  200000  \n",
       "\n",
       "[2998 rows x 34 columns]"
      ]
     },
     "execution_count": 96,
     "metadata": {},
     "output_type": "execute_result"
    }
   ],
   "source": [
    "df"
   ]
  },
  {
   "cell_type": "code",
   "execution_count": 97,
   "id": "0dbe229d",
   "metadata": {},
   "outputs": [],
   "source": [
    "df.rename(columns ={'10percentage':'tenth_percentage','12percentage':'twelveth_percentage'}, inplace =True)"
   ]
  },
  {
   "cell_type": "code",
   "execution_count": 98,
   "id": "07ca5b17",
   "metadata": {},
   "outputs": [
    {
     "data": {
      "text/html": [
       "<div>\n",
       "<style scoped>\n",
       "    .dataframe tbody tr th:only-of-type {\n",
       "        vertical-align: middle;\n",
       "    }\n",
       "\n",
       "    .dataframe tbody tr th {\n",
       "        vertical-align: top;\n",
       "    }\n",
       "\n",
       "    .dataframe thead th {\n",
       "        text-align: right;\n",
       "    }\n",
       "</style>\n",
       "<table border=\"1\" class=\"dataframe\">\n",
       "  <thead>\n",
       "    <tr style=\"text-align: right;\">\n",
       "      <th></th>\n",
       "      <th>ID</th>\n",
       "      <th>Gender</th>\n",
       "      <th>DOB</th>\n",
       "      <th>tenth_percentage</th>\n",
       "      <th>10board</th>\n",
       "      <th>12graduation</th>\n",
       "      <th>twelveth_percentage</th>\n",
       "      <th>12board</th>\n",
       "      <th>CollegeID</th>\n",
       "      <th>CollegeTier</th>\n",
       "      <th>...</th>\n",
       "      <th>MechanicalEngg</th>\n",
       "      <th>ElectricalEngg</th>\n",
       "      <th>TelecomEngg</th>\n",
       "      <th>CivilEngg</th>\n",
       "      <th>conscientiousness</th>\n",
       "      <th>agreeableness</th>\n",
       "      <th>extraversion</th>\n",
       "      <th>nueroticism</th>\n",
       "      <th>openess_to_experience</th>\n",
       "      <th>Salary</th>\n",
       "    </tr>\n",
       "  </thead>\n",
       "  <tbody>\n",
       "    <tr>\n",
       "      <th>0</th>\n",
       "      <td>604399</td>\n",
       "      <td>f</td>\n",
       "      <td>1990-10-22</td>\n",
       "      <td>87.80</td>\n",
       "      <td>cbse</td>\n",
       "      <td>2009</td>\n",
       "      <td>84.00</td>\n",
       "      <td>cbse</td>\n",
       "      <td>6920</td>\n",
       "      <td>1</td>\n",
       "      <td>...</td>\n",
       "      <td>402.026738</td>\n",
       "      <td>423.336066</td>\n",
       "      <td>349.879562</td>\n",
       "      <td>338.807692</td>\n",
       "      <td>-0.1590</td>\n",
       "      <td>0.3789</td>\n",
       "      <td>1.2396</td>\n",
       "      <td>0.14590</td>\n",
       "      <td>0.2889</td>\n",
       "      <td>445000</td>\n",
       "    </tr>\n",
       "    <tr>\n",
       "      <th>1</th>\n",
       "      <td>988334</td>\n",
       "      <td>m</td>\n",
       "      <td>1990-05-15</td>\n",
       "      <td>57.00</td>\n",
       "      <td>cbse</td>\n",
       "      <td>2010</td>\n",
       "      <td>64.50</td>\n",
       "      <td>cbse</td>\n",
       "      <td>6624</td>\n",
       "      <td>2</td>\n",
       "      <td>...</td>\n",
       "      <td>402.026738</td>\n",
       "      <td>423.336066</td>\n",
       "      <td>349.879562</td>\n",
       "      <td>338.807692</td>\n",
       "      <td>1.1336</td>\n",
       "      <td>0.0459</td>\n",
       "      <td>1.2396</td>\n",
       "      <td>0.52620</td>\n",
       "      <td>-0.2859</td>\n",
       "      <td>110000</td>\n",
       "    </tr>\n",
       "    <tr>\n",
       "      <th>2</th>\n",
       "      <td>301647</td>\n",
       "      <td>m</td>\n",
       "      <td>1989-08-21</td>\n",
       "      <td>77.33</td>\n",
       "      <td>maharashtra state board,pune</td>\n",
       "      <td>2007</td>\n",
       "      <td>85.17</td>\n",
       "      <td>amravati divisional board</td>\n",
       "      <td>9084</td>\n",
       "      <td>2</td>\n",
       "      <td>...</td>\n",
       "      <td>402.026738</td>\n",
       "      <td>423.336066</td>\n",
       "      <td>260.000000</td>\n",
       "      <td>338.807692</td>\n",
       "      <td>0.5100</td>\n",
       "      <td>-0.1232</td>\n",
       "      <td>1.5428</td>\n",
       "      <td>-0.29020</td>\n",
       "      <td>-0.2875</td>\n",
       "      <td>255000</td>\n",
       "    </tr>\n",
       "    <tr>\n",
       "      <th>3</th>\n",
       "      <td>582313</td>\n",
       "      <td>m</td>\n",
       "      <td>1991-05-04</td>\n",
       "      <td>84.30</td>\n",
       "      <td>cbse</td>\n",
       "      <td>2009</td>\n",
       "      <td>86.00</td>\n",
       "      <td>cbse</td>\n",
       "      <td>8195</td>\n",
       "      <td>1</td>\n",
       "      <td>...</td>\n",
       "      <td>402.026738</td>\n",
       "      <td>423.336066</td>\n",
       "      <td>349.879562</td>\n",
       "      <td>338.807692</td>\n",
       "      <td>-0.4463</td>\n",
       "      <td>0.2124</td>\n",
       "      <td>0.3174</td>\n",
       "      <td>0.27270</td>\n",
       "      <td>0.4805</td>\n",
       "      <td>420000</td>\n",
       "    </tr>\n",
       "    <tr>\n",
       "      <th>4</th>\n",
       "      <td>339001</td>\n",
       "      <td>f</td>\n",
       "      <td>1990-10-30</td>\n",
       "      <td>82.00</td>\n",
       "      <td>cbse</td>\n",
       "      <td>2008</td>\n",
       "      <td>75.00</td>\n",
       "      <td>cbse</td>\n",
       "      <td>4889</td>\n",
       "      <td>2</td>\n",
       "      <td>...</td>\n",
       "      <td>402.026738</td>\n",
       "      <td>423.336066</td>\n",
       "      <td>349.879562</td>\n",
       "      <td>338.807692</td>\n",
       "      <td>-1.4992</td>\n",
       "      <td>-0.7473</td>\n",
       "      <td>-1.0697</td>\n",
       "      <td>0.06223</td>\n",
       "      <td>0.1864</td>\n",
       "      <td>200000</td>\n",
       "    </tr>\n",
       "    <tr>\n",
       "      <th>...</th>\n",
       "      <td>...</td>\n",
       "      <td>...</td>\n",
       "      <td>...</td>\n",
       "      <td>...</td>\n",
       "      <td>...</td>\n",
       "      <td>...</td>\n",
       "      <td>...</td>\n",
       "      <td>...</td>\n",
       "      <td>...</td>\n",
       "      <td>...</td>\n",
       "      <td>...</td>\n",
       "      <td>...</td>\n",
       "      <td>...</td>\n",
       "      <td>...</td>\n",
       "      <td>...</td>\n",
       "      <td>...</td>\n",
       "      <td>...</td>\n",
       "      <td>...</td>\n",
       "      <td>...</td>\n",
       "      <td>...</td>\n",
       "      <td>...</td>\n",
       "    </tr>\n",
       "    <tr>\n",
       "      <th>2993</th>\n",
       "      <td>103174</td>\n",
       "      <td>f</td>\n",
       "      <td>1989-04-17</td>\n",
       "      <td>75.00</td>\n",
       "      <td>0</td>\n",
       "      <td>2005</td>\n",
       "      <td>73.00</td>\n",
       "      <td>0</td>\n",
       "      <td>1263</td>\n",
       "      <td>2</td>\n",
       "      <td>...</td>\n",
       "      <td>402.026738</td>\n",
       "      <td>423.336066</td>\n",
       "      <td>349.879562</td>\n",
       "      <td>338.807692</td>\n",
       "      <td>-1.1901</td>\n",
       "      <td>0.9688</td>\n",
       "      <td>-1.0697</td>\n",
       "      <td>1.35490</td>\n",
       "      <td>0.0284</td>\n",
       "      <td>120000</td>\n",
       "    </tr>\n",
       "    <tr>\n",
       "      <th>2994</th>\n",
       "      <td>352811</td>\n",
       "      <td>f</td>\n",
       "      <td>1991-07-22</td>\n",
       "      <td>84.00</td>\n",
       "      <td>state board</td>\n",
       "      <td>2008</td>\n",
       "      <td>77.00</td>\n",
       "      <td>state board</td>\n",
       "      <td>9481</td>\n",
       "      <td>2</td>\n",
       "      <td>...</td>\n",
       "      <td>402.026738</td>\n",
       "      <td>423.336066</td>\n",
       "      <td>349.879562</td>\n",
       "      <td>338.807692</td>\n",
       "      <td>-0.1082</td>\n",
       "      <td>0.0328</td>\n",
       "      <td>-0.4891</td>\n",
       "      <td>-0.29020</td>\n",
       "      <td>0.5024</td>\n",
       "      <td>120000</td>\n",
       "    </tr>\n",
       "    <tr>\n",
       "      <th>2995</th>\n",
       "      <td>287070</td>\n",
       "      <td>m</td>\n",
       "      <td>1988-11-24</td>\n",
       "      <td>91.40</td>\n",
       "      <td>bsemp</td>\n",
       "      <td>2006</td>\n",
       "      <td>65.56</td>\n",
       "      <td>bsemp</td>\n",
       "      <td>547</td>\n",
       "      <td>2</td>\n",
       "      <td>...</td>\n",
       "      <td>402.026738</td>\n",
       "      <td>423.336066</td>\n",
       "      <td>349.879562</td>\n",
       "      <td>338.807692</td>\n",
       "      <td>-0.8810</td>\n",
       "      <td>0.1888</td>\n",
       "      <td>-0.3440</td>\n",
       "      <td>0.06230</td>\n",
       "      <td>0.6603</td>\n",
       "      <td>385000</td>\n",
       "    </tr>\n",
       "    <tr>\n",
       "      <th>2996</th>\n",
       "      <td>317336</td>\n",
       "      <td>m</td>\n",
       "      <td>1988-08-25</td>\n",
       "      <td>88.64</td>\n",
       "      <td>karnataka education board</td>\n",
       "      <td>2006</td>\n",
       "      <td>65.16</td>\n",
       "      <td>karnataka education board</td>\n",
       "      <td>1629</td>\n",
       "      <td>2</td>\n",
       "      <td>...</td>\n",
       "      <td>402.026738</td>\n",
       "      <td>423.336066</td>\n",
       "      <td>349.879562</td>\n",
       "      <td>338.807692</td>\n",
       "      <td>1.4374</td>\n",
       "      <td>1.2808</td>\n",
       "      <td>-0.4891</td>\n",
       "      <td>-1.46537</td>\n",
       "      <td>0.5419</td>\n",
       "      <td>530000</td>\n",
       "    </tr>\n",
       "    <tr>\n",
       "      <th>2997</th>\n",
       "      <td>993701</td>\n",
       "      <td>m</td>\n",
       "      <td>1992-05-27</td>\n",
       "      <td>77.00</td>\n",
       "      <td>state board</td>\n",
       "      <td>2009</td>\n",
       "      <td>75.50</td>\n",
       "      <td>state board</td>\n",
       "      <td>1111</td>\n",
       "      <td>2</td>\n",
       "      <td>...</td>\n",
       "      <td>402.026738</td>\n",
       "      <td>423.336066</td>\n",
       "      <td>349.879562</td>\n",
       "      <td>338.807692</td>\n",
       "      <td>-0.5899</td>\n",
       "      <td>-1.9521</td>\n",
       "      <td>0.3174</td>\n",
       "      <td>1.16010</td>\n",
       "      <td>-2.3937</td>\n",
       "      <td>200000</td>\n",
       "    </tr>\n",
       "  </tbody>\n",
       "</table>\n",
       "<p>2998 rows × 34 columns</p>\n",
       "</div>"
      ],
      "text/plain": [
       "          ID Gender         DOB  tenth_percentage  \\\n",
       "0     604399      f  1990-10-22             87.80   \n",
       "1     988334      m  1990-05-15             57.00   \n",
       "2     301647      m  1989-08-21             77.33   \n",
       "3     582313      m  1991-05-04             84.30   \n",
       "4     339001      f  1990-10-30             82.00   \n",
       "...      ...    ...         ...               ...   \n",
       "2993  103174      f  1989-04-17             75.00   \n",
       "2994  352811      f  1991-07-22             84.00   \n",
       "2995  287070      m  1988-11-24             91.40   \n",
       "2996  317336      m  1988-08-25             88.64   \n",
       "2997  993701      m  1992-05-27             77.00   \n",
       "\n",
       "                           10board  12graduation  twelveth_percentage  \\\n",
       "0                             cbse          2009                84.00   \n",
       "1                             cbse          2010                64.50   \n",
       "2     maharashtra state board,pune          2007                85.17   \n",
       "3                             cbse          2009                86.00   \n",
       "4                             cbse          2008                75.00   \n",
       "...                            ...           ...                  ...   \n",
       "2993                             0          2005                73.00   \n",
       "2994                   state board          2008                77.00   \n",
       "2995                         bsemp          2006                65.56   \n",
       "2996     karnataka education board          2006                65.16   \n",
       "2997                   state board          2009                75.50   \n",
       "\n",
       "                        12board  CollegeID  CollegeTier  ... MechanicalEngg  \\\n",
       "0                          cbse       6920            1  ...     402.026738   \n",
       "1                          cbse       6624            2  ...     402.026738   \n",
       "2     amravati divisional board       9084            2  ...     402.026738   \n",
       "3                          cbse       8195            1  ...     402.026738   \n",
       "4                          cbse       4889            2  ...     402.026738   \n",
       "...                         ...        ...          ...  ...            ...   \n",
       "2993                          0       1263            2  ...     402.026738   \n",
       "2994                state board       9481            2  ...     402.026738   \n",
       "2995                      bsemp        547            2  ...     402.026738   \n",
       "2996  karnataka education board       1629            2  ...     402.026738   \n",
       "2997                state board       1111            2  ...     402.026738   \n",
       "\n",
       "     ElectricalEngg  TelecomEngg   CivilEngg  conscientiousness agreeableness  \\\n",
       "0        423.336066   349.879562  338.807692            -0.1590        0.3789   \n",
       "1        423.336066   349.879562  338.807692             1.1336        0.0459   \n",
       "2        423.336066   260.000000  338.807692             0.5100       -0.1232   \n",
       "3        423.336066   349.879562  338.807692            -0.4463        0.2124   \n",
       "4        423.336066   349.879562  338.807692            -1.4992       -0.7473   \n",
       "...             ...          ...         ...                ...           ...   \n",
       "2993     423.336066   349.879562  338.807692            -1.1901        0.9688   \n",
       "2994     423.336066   349.879562  338.807692            -0.1082        0.0328   \n",
       "2995     423.336066   349.879562  338.807692            -0.8810        0.1888   \n",
       "2996     423.336066   349.879562  338.807692             1.4374        1.2808   \n",
       "2997     423.336066   349.879562  338.807692            -0.5899       -1.9521   \n",
       "\n",
       "      extraversion  nueroticism  openess_to_experience  Salary  \n",
       "0           1.2396      0.14590                 0.2889  445000  \n",
       "1           1.2396      0.52620                -0.2859  110000  \n",
       "2           1.5428     -0.29020                -0.2875  255000  \n",
       "3           0.3174      0.27270                 0.4805  420000  \n",
       "4          -1.0697      0.06223                 0.1864  200000  \n",
       "...            ...          ...                    ...     ...  \n",
       "2993       -1.0697      1.35490                 0.0284  120000  \n",
       "2994       -0.4891     -0.29020                 0.5024  120000  \n",
       "2995       -0.3440      0.06230                 0.6603  385000  \n",
       "2996       -0.4891     -1.46537                 0.5419  530000  \n",
       "2997        0.3174      1.16010                -2.3937  200000  \n",
       "\n",
       "[2998 rows x 34 columns]"
      ]
     },
     "execution_count": 98,
     "metadata": {},
     "output_type": "execute_result"
    }
   ],
   "source": [
    "df"
   ]
  },
  {
   "cell_type": "code",
   "execution_count": 99,
   "id": "6725273f",
   "metadata": {},
   "outputs": [],
   "source": [
    "x =df[[\"tenth_percentage\",\"twelveth_percentage\",\"CollegeTier\",\"MechanicalEngg\",\"ElectricalEngg\",\"TelecomEngg\",\"CivilEngg\",\"collegeGPA\",\"Logical\",\"GraduationYear\"]]\n",
    "y =df[\"Salary\"]"
   ]
  },
  {
   "cell_type": "code",
   "execution_count": 100,
   "id": "5ea2e5b4",
   "metadata": {},
   "outputs": [
    {
     "data": {
      "text/html": [
       "<div>\n",
       "<style scoped>\n",
       "    .dataframe tbody tr th:only-of-type {\n",
       "        vertical-align: middle;\n",
       "    }\n",
       "\n",
       "    .dataframe tbody tr th {\n",
       "        vertical-align: top;\n",
       "    }\n",
       "\n",
       "    .dataframe thead th {\n",
       "        text-align: right;\n",
       "    }\n",
       "</style>\n",
       "<table border=\"1\" class=\"dataframe\">\n",
       "  <thead>\n",
       "    <tr style=\"text-align: right;\">\n",
       "      <th></th>\n",
       "      <th>tenth_percentage</th>\n",
       "      <th>twelveth_percentage</th>\n",
       "      <th>CollegeTier</th>\n",
       "      <th>MechanicalEngg</th>\n",
       "      <th>ElectricalEngg</th>\n",
       "      <th>TelecomEngg</th>\n",
       "      <th>CivilEngg</th>\n",
       "      <th>collegeGPA</th>\n",
       "      <th>Logical</th>\n",
       "      <th>GraduationYear</th>\n",
       "    </tr>\n",
       "  </thead>\n",
       "  <tbody>\n",
       "    <tr>\n",
       "      <th>0</th>\n",
       "      <td>87.80</td>\n",
       "      <td>84.00</td>\n",
       "      <td>1</td>\n",
       "      <td>402.026738</td>\n",
       "      <td>423.336066</td>\n",
       "      <td>349.879562</td>\n",
       "      <td>338.807692</td>\n",
       "      <td>73.82</td>\n",
       "      <td>665</td>\n",
       "      <td>2013</td>\n",
       "    </tr>\n",
       "    <tr>\n",
       "      <th>1</th>\n",
       "      <td>57.00</td>\n",
       "      <td>64.50</td>\n",
       "      <td>2</td>\n",
       "      <td>402.026738</td>\n",
       "      <td>423.336066</td>\n",
       "      <td>349.879562</td>\n",
       "      <td>338.807692</td>\n",
       "      <td>65.00</td>\n",
       "      <td>435</td>\n",
       "      <td>2014</td>\n",
       "    </tr>\n",
       "    <tr>\n",
       "      <th>2</th>\n",
       "      <td>77.33</td>\n",
       "      <td>85.17</td>\n",
       "      <td>2</td>\n",
       "      <td>402.026738</td>\n",
       "      <td>423.336066</td>\n",
       "      <td>260.000000</td>\n",
       "      <td>338.807692</td>\n",
       "      <td>61.94</td>\n",
       "      <td>475</td>\n",
       "      <td>2011</td>\n",
       "    </tr>\n",
       "    <tr>\n",
       "      <th>3</th>\n",
       "      <td>84.30</td>\n",
       "      <td>86.00</td>\n",
       "      <td>1</td>\n",
       "      <td>402.026738</td>\n",
       "      <td>423.336066</td>\n",
       "      <td>349.879562</td>\n",
       "      <td>338.807692</td>\n",
       "      <td>80.40</td>\n",
       "      <td>620</td>\n",
       "      <td>2013</td>\n",
       "    </tr>\n",
       "    <tr>\n",
       "      <th>4</th>\n",
       "      <td>82.00</td>\n",
       "      <td>75.00</td>\n",
       "      <td>2</td>\n",
       "      <td>402.026738</td>\n",
       "      <td>423.336066</td>\n",
       "      <td>349.879562</td>\n",
       "      <td>338.807692</td>\n",
       "      <td>64.30</td>\n",
       "      <td>495</td>\n",
       "      <td>2012</td>\n",
       "    </tr>\n",
       "    <tr>\n",
       "      <th>...</th>\n",
       "      <td>...</td>\n",
       "      <td>...</td>\n",
       "      <td>...</td>\n",
       "      <td>...</td>\n",
       "      <td>...</td>\n",
       "      <td>...</td>\n",
       "      <td>...</td>\n",
       "      <td>...</td>\n",
       "      <td>...</td>\n",
       "      <td>...</td>\n",
       "    </tr>\n",
       "    <tr>\n",
       "      <th>2993</th>\n",
       "      <td>75.00</td>\n",
       "      <td>73.00</td>\n",
       "      <td>2</td>\n",
       "      <td>402.026738</td>\n",
       "      <td>423.336066</td>\n",
       "      <td>349.879562</td>\n",
       "      <td>338.807692</td>\n",
       "      <td>70.00</td>\n",
       "      <td>485</td>\n",
       "      <td>2010</td>\n",
       "    </tr>\n",
       "    <tr>\n",
       "      <th>2994</th>\n",
       "      <td>84.00</td>\n",
       "      <td>77.00</td>\n",
       "      <td>2</td>\n",
       "      <td>402.026738</td>\n",
       "      <td>423.336066</td>\n",
       "      <td>349.879562</td>\n",
       "      <td>338.807692</td>\n",
       "      <td>75.20</td>\n",
       "      <td>585</td>\n",
       "      <td>2012</td>\n",
       "    </tr>\n",
       "    <tr>\n",
       "      <th>2995</th>\n",
       "      <td>91.40</td>\n",
       "      <td>65.56</td>\n",
       "      <td>2</td>\n",
       "      <td>402.026738</td>\n",
       "      <td>423.336066</td>\n",
       "      <td>349.879562</td>\n",
       "      <td>338.807692</td>\n",
       "      <td>73.19</td>\n",
       "      <td>425</td>\n",
       "      <td>2011</td>\n",
       "    </tr>\n",
       "    <tr>\n",
       "      <th>2996</th>\n",
       "      <td>88.64</td>\n",
       "      <td>65.16</td>\n",
       "      <td>2</td>\n",
       "      <td>402.026738</td>\n",
       "      <td>423.336066</td>\n",
       "      <td>349.879562</td>\n",
       "      <td>338.807692</td>\n",
       "      <td>74.81</td>\n",
       "      <td>645</td>\n",
       "      <td>2011</td>\n",
       "    </tr>\n",
       "    <tr>\n",
       "      <th>2997</th>\n",
       "      <td>77.00</td>\n",
       "      <td>75.50</td>\n",
       "      <td>2</td>\n",
       "      <td>402.026738</td>\n",
       "      <td>423.336066</td>\n",
       "      <td>349.879562</td>\n",
       "      <td>338.807692</td>\n",
       "      <td>69.30</td>\n",
       "      <td>390</td>\n",
       "      <td>2013</td>\n",
       "    </tr>\n",
       "  </tbody>\n",
       "</table>\n",
       "<p>2998 rows × 10 columns</p>\n",
       "</div>"
      ],
      "text/plain": [
       "      tenth_percentage  twelveth_percentage  CollegeTier  MechanicalEngg  \\\n",
       "0                87.80                84.00            1      402.026738   \n",
       "1                57.00                64.50            2      402.026738   \n",
       "2                77.33                85.17            2      402.026738   \n",
       "3                84.30                86.00            1      402.026738   \n",
       "4                82.00                75.00            2      402.026738   \n",
       "...                ...                  ...          ...             ...   \n",
       "2993             75.00                73.00            2      402.026738   \n",
       "2994             84.00                77.00            2      402.026738   \n",
       "2995             91.40                65.56            2      402.026738   \n",
       "2996             88.64                65.16            2      402.026738   \n",
       "2997             77.00                75.50            2      402.026738   \n",
       "\n",
       "      ElectricalEngg  TelecomEngg   CivilEngg  collegeGPA  Logical  \\\n",
       "0         423.336066   349.879562  338.807692       73.82      665   \n",
       "1         423.336066   349.879562  338.807692       65.00      435   \n",
       "2         423.336066   260.000000  338.807692       61.94      475   \n",
       "3         423.336066   349.879562  338.807692       80.40      620   \n",
       "4         423.336066   349.879562  338.807692       64.30      495   \n",
       "...              ...          ...         ...         ...      ...   \n",
       "2993      423.336066   349.879562  338.807692       70.00      485   \n",
       "2994      423.336066   349.879562  338.807692       75.20      585   \n",
       "2995      423.336066   349.879562  338.807692       73.19      425   \n",
       "2996      423.336066   349.879562  338.807692       74.81      645   \n",
       "2997      423.336066   349.879562  338.807692       69.30      390   \n",
       "\n",
       "      GraduationYear  \n",
       "0               2013  \n",
       "1               2014  \n",
       "2               2011  \n",
       "3               2013  \n",
       "4               2012  \n",
       "...              ...  \n",
       "2993            2010  \n",
       "2994            2012  \n",
       "2995            2011  \n",
       "2996            2011  \n",
       "2997            2013  \n",
       "\n",
       "[2998 rows x 10 columns]"
      ]
     },
     "execution_count": 100,
     "metadata": {},
     "output_type": "execute_result"
    }
   ],
   "source": [
    "x"
   ]
  },
  {
   "cell_type": "code",
   "execution_count": 101,
   "id": "57541e07",
   "metadata": {},
   "outputs": [
    {
     "data": {
      "text/plain": [
       "0       445000\n",
       "1       110000\n",
       "2       255000\n",
       "3       420000\n",
       "4       200000\n",
       "         ...  \n",
       "2993    120000\n",
       "2994    120000\n",
       "2995    385000\n",
       "2996    530000\n",
       "2997    200000\n",
       "Name: Salary, Length: 2998, dtype: int64"
      ]
     },
     "execution_count": 101,
     "metadata": {},
     "output_type": "execute_result"
    }
   ],
   "source": [
    "y"
   ]
  },
  {
   "cell_type": "markdown",
   "id": "2cf70d8d",
   "metadata": {},
   "source": [
    "# Data Visulization"
   ]
  },
  {
   "cell_type": "code",
   "execution_count": 102,
   "id": "06972c80",
   "metadata": {},
   "outputs": [
    {
     "data": {
      "text/plain": [
       "Text(0.5, 1.0, '10th marks vs salary')"
      ]
     },
     "execution_count": 102,
     "metadata": {},
     "output_type": "execute_result"
    },
    {
     "data": {
      "image/png": "[encoded data removed]",
      "text/plain": [
       "<Figure size 432x288 with 1 Axes>"
      ]
     },
     "metadata": {
      "needs_background": "light"
     },
     "output_type": "display_data"
    }
   ],
   "source": [
    "plt.bar(x.tenth_percentage,y,color =\"red\")\n",
    "plt.xlabel(\"10th_percantage\")\n",
    "plt.ylabel(\"salary\")\n",
    "plt.title(\"10th marks vs salary\")\n"
   ]
  },
  {
   "cell_type": "code",
   "execution_count": 103,
   "id": "18c7a6f7",
   "metadata": {},
   "outputs": [
    {
     "data": {
      "text/plain": [
       "Text(0.5, 1.0, '12th marks vs salary')"
      ]
     },
     "execution_count": 103,
     "metadata": {},
     "output_type": "execute_result"
    },
    {
     "data": {
      "image/png": "[encoded data removed]",
      "text/plain": [
       "<Figure size 432x288 with 1 Axes>"
      ]
     },
     "metadata": {
      "needs_background": "light"
     },
     "output_type": "display_data"
    }
   ],
   "source": [
    "plt.bar(x.twelveth_percentage,y,color =\"blue\")\n",
    "plt.xlabel(\"12th_percantage\")\n",
    "plt.ylabel(\"salary\")\n",
    "plt.title(\"12th marks vs salary\")"
   ]
  },
  {
   "cell_type": "code",
   "execution_count": 104,
   "id": "52410599",
   "metadata": {},
   "outputs": [
    {
     "data": {
      "text/plain": [
       "Text(0.5, 1.0, 'CollegeTier vs salary')"
      ]
     },
     "execution_count": 104,
     "metadata": {},
     "output_type": "execute_result"
    },
    {
     "data": {
      "image/png": "[encoded data removed]",
      "text/plain": [
       "<Figure size 432x288 with 1 Axes>"
      ]
     },
     "metadata": {
      "needs_background": "light"
     },
     "output_type": "display_data"
    }
   ],
   "source": [
    "plt.scatter(x.CollegeTier,y,color =\"pink\")\n",
    "plt.xlabel(\"CollegeTier\")\n",
    "plt.ylabel(\"salary\")\n",
    "plt.title(\"CollegeTier vs salary\")"
   ]
  },
  {
   "cell_type": "code",
   "execution_count": 105,
   "id": "cd0ae01b",
   "metadata": {},
   "outputs": [
    {
     "data": {
      "text/plain": [
       "Text(0.5, 1.0, 'MechanicalEngg vs salary')"
      ]
     },
     "execution_count": 105,
     "metadata": {},
     "output_type": "execute_result"
    },
    {
     "data": {
      "image/png": "[encoded data removed]",
      "text/plain": [
       "<Figure size 432x288 with 1 Axes>"
      ]
     },
     "metadata": {
      "needs_background": "light"
     },
     "output_type": "display_data"
    }
   ],
   "source": [
    "plt.bar(x.MechanicalEngg,y,color =\"brown\")\n",
    "plt.xlabel(\"MechanicalEngg\")\n",
    "plt.ylabel(\"salary\")\n",
    "plt.title(\"MechanicalEngg vs salary\")"
   ]
  },
  {
   "cell_type": "code",
   "execution_count": 106,
   "id": "fcc1097e",
   "metadata": {},
   "outputs": [
    {
     "data": {
      "text/plain": [
       "Text(0.5, 1.0, 'ElectricalEngg vs salary')"
      ]
     },
     "execution_count": 106,
     "metadata": {},
     "output_type": "execute_result"
    },
    {
     "data": {
      "image/png": "[encoded data removed]",
      "text/plain": [
       "<Figure size 432x288 with 1 Axes>"
      ]
     },
     "metadata": {
      "needs_background": "light"
     },
     "output_type": "display_data"
    }
   ],
   "source": [
    "plt.bar(x.ElectricalEngg,y,color =\"red\")\n",
    "plt.xlabel(\"ElectricalEngg\")\n",
    "plt.ylabel(\"salary\")\n",
    "plt.title(\"ElectricalEngg vs salary\")"
   ]
  },
  {
   "cell_type": "code",
   "execution_count": 107,
   "id": "0707709a",
   "metadata": {},
   "outputs": [
    {
     "data": {
      "text/plain": [
       "Text(0.5, 1.0, 'TelecomEngg vs salary')"
      ]
     },
     "execution_count": 107,
     "metadata": {},
     "output_type": "execute_result"
    },
    {
     "data": {
      "image/png": "[encoded data removed]",
      "text/plain": [
       "<Figure size 432x288 with 1 Axes>"
      ]
     },
     "metadata": {
      "needs_background": "light"
     },
     "output_type": "display_data"
    }
   ],
   "source": [
    "plt.bar(x.TelecomEngg,y,color =\"cyan\")\n",
    "plt.xlabel(\"TelecomEngg\")\n",
    "plt.ylabel(\"salary\")\n",
    "plt.title(\"TelecomEngg vs salary\")"
   ]
  },
  {
   "cell_type": "code",
   "execution_count": 108,
   "id": "c36bd4ad",
   "metadata": {},
   "outputs": [
    {
     "data": {
      "text/plain": [
       "Text(0.5, 1.0, 'collegeGPA vs salary')"
      ]
     },
     "execution_count": 108,
     "metadata": {},
     "output_type": "execute_result"
    },
    {
     "data": {
      "image/png": "[encoded data removed]",
      "text/plain": [
       "<Figure size 432x288 with 1 Axes>"
      ]
     },
     "metadata": {
      "needs_background": "light"
     },
     "output_type": "display_data"
    }
   ],
   "source": [
    "plt.bar(x.collegeGPA,y,color =\"pink\")\n",
    "plt.xlabel(\"collegeGPA\")\n",
    "plt.ylabel(\"salary\")\n",
    "plt.title(\"collegeGPA vs salary\")"
   ]
  },
  {
   "cell_type": "code",
   "execution_count": 109,
   "id": "c75ec8cb",
   "metadata": {},
   "outputs": [
    {
     "data": {
      "text/plain": [
       "Text(0.5, 1.0, 'GraduationYear vs salary')"
      ]
     },
     "execution_count": 109,
     "metadata": {},
     "output_type": "execute_result"
    },
    {
     "data": {
      "image/png": "[encoded data removed]",
      "text/plain": [
       "<Figure size 432x288 with 1 Axes>"
      ]
     },
     "metadata": {
      "needs_background": "light"
     },
     "output_type": "display_data"
    }
   ],
   "source": [
    "plt.bar(x.GraduationYear,y,color =\"red\")\n",
    "plt.xlabel(\"GraduationYear\")\n",
    "plt.ylabel(\"salary\")\n",
    "plt.title(\"GraduationYear vs salary\")"
   ]
  },
  {
   "cell_type": "code",
   "execution_count": 110,
   "id": "1586833b",
   "metadata": {},
   "outputs": [
    {
     "data": {
      "text/plain": [
       "Text(0.5, 1.0, 'Logical vs salary')"
      ]
     },
     "execution_count": 110,
     "metadata": {},
     "output_type": "execute_result"
    },
    {
     "data": {
      "image/png": "[encoded data removed]",
      "text/plain": [
       "<Figure size 432x288 with 1 Axes>"
      ]
     },
     "metadata": {
      "needs_background": "light"
     },
     "output_type": "display_data"
    }
   ],
   "source": [
    "plt.bar(x.Logical,y,color =\"yellow\")\n",
    "plt.xlabel(\"Logical\")\n",
    "plt.ylabel(\"salary\")\n",
    "plt.title(\"Logical vs salary\")"
   ]
  },
  {
   "cell_type": "code",
   "execution_count": 111,
   "id": "783f94cb",
   "metadata": {},
   "outputs": [],
   "source": [
    "model = LinearRegression()\n"
   ]
  },
  {
   "cell_type": "code",
   "execution_count": 112,
   "id": "530b2d92",
   "metadata": {},
   "outputs": [
    {
     "data": {
      "text/plain": [
       "LinearRegression()"
      ]
     },
     "execution_count": 112,
     "metadata": {},
     "output_type": "execute_result"
    }
   ],
   "source": [
    "model.fit(x,y)"
   ]
  },
  {
   "cell_type": "code",
   "execution_count": 113,
   "id": "0fd9cc3c",
   "metadata": {},
   "outputs": [
    {
     "data": {
      "text/plain": [
       "array([ 1.30221808e+03,  1.35254276e+03, -1.06417155e+05,  1.62051187e+02,\n",
       "        1.84286390e+02, -6.84654099e+01,  8.28561944e+02,  1.34884748e+03,\n",
       "        2.91885425e+02, -2.53456302e+01])"
      ]
     },
     "execution_count": 113,
     "metadata": {},
     "output_type": "execute_result"
    }
   ],
   "source": [
    "model.coef_"
   ]
  },
  {
   "cell_type": "code",
   "execution_count": 114,
   "id": "f65111c3",
   "metadata": {},
   "outputs": [
    {
     "data": {
      "text/plain": [
       "-283164.0879737424"
      ]
     },
     "execution_count": 114,
     "metadata": {},
     "output_type": "execute_result"
    }
   ],
   "source": [
    "model.intercept_"
   ]
  },
  {
   "cell_type": "code",
   "execution_count": 115,
   "id": "d515bb61",
   "metadata": {},
   "outputs": [
    {
     "data": {
      "text/plain": [
       "array([503070.70391604])"
      ]
     },
     "execution_count": 115,
     "metadata": {},
     "output_type": "execute_result"
    }
   ],
   "source": [
    "model.predict([[95.8,88.8,1,402.026738,423.336066,260.000000,338.807692,73.08,665,2011]])"
   ]
  },
  {
   "cell_type": "code",
   "execution_count": 116,
   "id": "0771e395",
   "metadata": {},
   "outputs": [
    {
     "name": "stdout",
     "output_type": "stream",
     "text": [
      "1798 1200\n"
     ]
    }
   ],
   "source": [
    "from sklearn.model_selection import train_test_split\n",
    "train_x,test_x,train_y,test_y=train_test_split(x,y,test_size=0.4)\n",
    "print(len(train_x),len(test_x))"
   ]
  },
  {
   "cell_type": "code",
   "execution_count": 117,
   "id": "59c11ea0",
   "metadata": {},
   "outputs": [
    {
     "data": {
      "text/plain": [
       "LinearRegression()"
      ]
     },
     "execution_count": 117,
     "metadata": {},
     "output_type": "execute_result"
    }
   ],
   "source": [
    "model.fit(train_x,train_y)"
   ]
  },
  {
   "cell_type": "code",
   "execution_count": 118,
   "id": "e26efce6",
   "metadata": {},
   "outputs": [
    {
     "data": {
      "text/plain": [
       "array([167826.60898738, 285218.01302104, 395657.29200798, ...,\n",
       "       481276.80238369, 301655.06417517, 256763.33181724])"
      ]
     },
     "execution_count": 118,
     "metadata": {},
     "output_type": "execute_result"
    }
   ],
   "source": [
    "model.predict(test_x)"
   ]
  },
  {
   "cell_type": "code",
   "execution_count": 127,
   "id": "d613bcb5",
   "metadata": {},
   "outputs": [
    {
     "data": {
      "text/plain": [
       "0.05583333333333333"
      ]
     },
     "execution_count": 127,
     "metadata": {},
     "output_type": "execute_result"
    }
   ],
   "source": [
    "model.score(test_x,test_y)"
   ]
  },
  {
   "cell_type": "markdown",
   "id": "f808e070",
   "metadata": {},
   "source": [
    "# Accuaracy Through K neighbours classifier method"
   ]
  },
  {
   "cell_type": "code",
   "execution_count": 120,
   "id": "e63542d7",
   "metadata": {},
   "outputs": [],
   "source": [
    "from sklearn.neighbors import KNeighborsClassifier"
   ]
  },
  {
   "cell_type": "code",
   "execution_count": 128,
   "id": "14f9e054",
   "metadata": {},
   "outputs": [],
   "source": [
    "model1=KNeighborsClassifier( n_neighbors=5)"
   ]
  },
  {
   "cell_type": "code",
   "execution_count": 129,
   "id": "2fd98fd0",
   "metadata": {},
   "outputs": [
    {
     "data": {
      "text/plain": [
       "KNeighborsClassifier()"
      ]
     },
     "execution_count": 129,
     "metadata": {},
     "output_type": "execute_result"
    }
   ],
   "source": [
    "model1.fit(train_x,train_y)"
   ]
  },
  {
   "cell_type": "code",
   "execution_count": 130,
   "id": "80fff427",
   "metadata": {},
   "outputs": [
    {
     "data": {
      "text/plain": [
       "0.035833333333333335"
      ]
     },
     "execution_count": 130,
     "metadata": {},
     "output_type": "execute_result"
    }
   ],
   "source": [
    "model1.score(test_x,test_y)"
   ]
  },
  {
   "cell_type": "code",
   "execution_count": 131,
   "id": "f82baee1",
   "metadata": {},
   "outputs": [],
   "source": [
    "pred_y=model1.predict(test_x)"
   ]
  },
  {
   "cell_type": "code",
   "execution_count": 125,
   "id": "13bfc079",
   "metadata": {},
   "outputs": [
    {
     "data": {
      "text/plain": [
       "2739     True\n",
       "1061    False\n",
       "2808    False\n",
       "35      False\n",
       "2972    False\n",
       "        ...  \n",
       "1105    False\n",
       "470     False\n",
       "762     False\n",
       "1321    False\n",
       "2384    False\n",
       "Name: Salary, Length: 1200, dtype: bool"
      ]
     },
     "execution_count": 125,
     "metadata": {},
     "output_type": "execute_result"
    }
   ],
   "source": [
    "test_y==pred_y"
   ]
  },
  {
   "cell_type": "code",
   "execution_count": 132,
   "id": "52a3e01e",
   "metadata": {},
   "outputs": [
    {
     "name": "stdout",
     "output_type": "stream",
     "text": [
      "i value is  1  accuracy is :  0.0275\n",
      "i value is  2  accuracy is :  0.04416666666666667\n",
      "i value is  3  accuracy is :  0.03333333333333333\n",
      "i value is  4  accuracy is :  0.035833333333333335\n",
      "i value is  5  accuracy is :  0.035833333333333335\n",
      "i value is  6  accuracy is :  0.0375\n",
      "i value is  7  accuracy is :  0.04083333333333333\n",
      "i value is  8  accuracy is :  0.03833333333333333\n",
      "i value is  9  accuracy is :  0.03833333333333333\n",
      "i value is  10  accuracy is :  0.0425\n",
      "i value is  11  accuracy is :  0.04083333333333333\n",
      "i value is  12  accuracy is :  0.04583333333333333\n",
      "i value is  13  accuracy is :  0.04833333333333333\n",
      "i value is  14  accuracy is :  0.04583333333333333\n",
      "i value is  15  accuracy is :  0.049166666666666664\n",
      "i value is  16  accuracy is :  0.049166666666666664\n",
      "i value is  17  accuracy is :  0.050833333333333335\n",
      "i value is  18  accuracy is :  0.05583333333333333\n",
      "i value is  19  accuracy is :  0.059166666666666666\n",
      "i value is  20  accuracy is :  0.059166666666666666\n",
      "i value is  21  accuracy is :  0.06333333333333334\n",
      "i value is  22  accuracy is :  0.0575\n",
      "i value is  23  accuracy is :  0.05583333333333333\n",
      "i value is  24  accuracy is :  0.055\n",
      "i value is  25  accuracy is :  0.05583333333333333\n",
      "i value is  26  accuracy is :  0.05416666666666667\n",
      "i value is  27  accuracy is :  0.06\n",
      "i value is  28  accuracy is :  0.060833333333333336\n",
      "i value is  29  accuracy is :  0.06166666666666667\n",
      "i value is  30  accuracy is :  0.0625\n",
      "i value is  31  accuracy is :  0.06\n",
      "i value is  32  accuracy is :  0.060833333333333336\n",
      "i value is  33  accuracy is :  0.058333333333333334\n",
      "i value is  34  accuracy is :  0.05583333333333333\n",
      "i value is  35  accuracy is :  0.059166666666666666\n",
      "i value is  36  accuracy is :  0.0625\n",
      "i value is  37  accuracy is :  0.06416666666666666\n",
      "i value is  38  accuracy is :  0.060833333333333336\n",
      "i value is  39  accuracy is :  0.060833333333333336\n",
      "i value is  40  accuracy is :  0.06166666666666667\n",
      "i value is  41  accuracy is :  0.06333333333333334\n",
      "i value is  42  accuracy is :  0.06416666666666666\n",
      "i value is  43  accuracy is :  0.065\n",
      "i value is  44  accuracy is :  0.06416666666666666\n",
      "i value is  45  accuracy is :  0.059166666666666666\n",
      "i value is  46  accuracy is :  0.0575\n",
      "i value is  47  accuracy is :  0.0575\n",
      "i value is  48  accuracy is :  0.058333333333333334\n",
      "i value is  49  accuracy is :  0.056666666666666664\n",
      "i value is  50  accuracy is :  0.05583333333333333\n"
     ]
    }
   ],
   "source": [
    "for i in range(1,51):\n",
    "    model1=KNeighborsClassifier(n_neighbors=i)\n",
    "    model1.fit(train_x,train_y)\n",
    "    print(\"i value is \",i,\" accuracy is : \",model1.score(test_x,test_y))"
   ]
  },
  {
   "cell_type": "code",
   "execution_count": 133,
   "id": "1d29fe21",
   "metadata": {},
   "outputs": [
    {
     "data": {
      "text/plain": [
       "array([325000], dtype=int64)"
      ]
     },
     "execution_count": 133,
     "metadata": {},
     "output_type": "execute_result"
    }
   ],
   "source": [
    "model1.predict([[95.8,88.8,1,402.026738,423.336066,260.000000,338.807692,73.08,665,2011]])"
   ]
  },
  {
   "cell_type": "code",
   "execution_count": null,
   "id": "dfcb360e",
   "metadata": {},
   "outputs": [],
   "source": []
  }
 ],
 "metadata": {
  "kernelspec": {
   "display_name": "Python 3",
   "language": "python",
   "name": "python3"
  },
  "language_info": {
   "codemirror_mode": {
    "name": "ipython",
    "version": 3
   },
   "file_extension": ".py",
   "mimetype": "text/x-python",
   "name": "python",
   "nbconvert_exporter": "python",
   "pygments_lexer": "ipython3",
   "version": "3.8.8"
  }
 },
 "nbformat": 4,
 "nbformat_minor": 5
}
